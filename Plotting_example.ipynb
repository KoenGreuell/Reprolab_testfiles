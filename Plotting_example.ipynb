{
 "cells": [
  {
   "cell_type": "markdown",
   "id": "cf67f79c-b947-444a-9a3b-a2328576b8d0",
   "metadata": {},
   "source": [
    "# ReproLab Demo\n",
    "\n",
    "Welcome to ReproLab! This extension helps you make your research more reproducible.\n",
    "\n",
    "## Features\n",
    "\n",
    "- **Create Experiments**: Automatically save immutable snapshots of your code under `git` tags to preserve the **exact code and outputs**\n",
    "- **Manage Dependencies**: Automatically gather and pin **exact package versions**, so that others can set up your environment with one command\n",
    "- **Cache Data**: Call external API/load manually dataset only once, caching function will handle the rest\n",
    "- **Archive Data**: Caching function can also preserve the compressed data in *AWS S3*, so you always know what data was used and reduce the API calls\n",
    "- **Publishing guide**: The reproducibility checklist & automated generation of reproducability package make publishing to platforms such as Zenodo very easy\n",
    "\n",
    "## Getting Started\n",
    "\n",
    "1. Use the sidebar to view ReproLab features\n",
    "2. Create virtual environment and pin your dependencies, go to reprolab section `Create reproducible environment` \n",
    "3. Create an experiment to save your current state, go to reprolab section `Create experiment`\n",
    "4. Archive your data for long-term storage, go to reprolab section `Demo` and play around with it.\n",
    "5. Publish your work when ready, remember to use reproducability checklist from the section `Reproducibility Checklist`\n",
    "\n",
    "## Example Usage of persistio decorator\n",
    "\n",
    "To cache and archive the datasets you use, both from local files and APIs we developed a simple decorator that put over your function that gets the datasets caches the file both locally and in the cloud so that the dataset you use is archived and the number of calls to external APIs is minimal and you don't need to keep the file around after you run it once.\n",
    "\n",
    "Here is an example using one of NASA open APIs. If you want to test it out yourself, you can copy the code, but you need to provide bucket name and access and secret key in the left-hand panel using the `AWS S3 Configuration` section.\n",
    "\n",
    "```python\n",
    "import requests\n",
    "import pandas as pd\n",
    "from io import StringIO\n",
    "\n",
    "# The two lines below is all that you need to add\n",
    "from reprolab.experiment import persistio\n",
    "@persistio()\n",
    "def get_exoplanets_data_from_nasa():\n",
    "    url = \"https://exoplanetarchive.ipac.caltech.edu/TAP/sync\"\n",
    "\n",
    "    query = \"\"\"\n",
    "    SELECT TOP 10\n",
    "        pl_name AS planet_name,\n",
    "        hostname AS host_star,\n",
    "        pl_orbper AS orbital_period_days,\n",
    "        pl_rade AS planet_radius_earth,\n",
    "        disc_year AS discovery_year\n",
    "    FROM\n",
    "        ps\n",
    "    WHERE\n",
    "        default_flag = 1\n",
    "    \"\"\"\n",
    "\n",
    "    params = {\n",
    "        \"query\": query,\n",
    "        \"format\": \"csv\"\n",
    "    }\n",
    "\n",
    "    response = requests.get(url, params=params)\n",
    "\n",
    "    if response.status_code == 200:\n",
    "        df = pd.read_csv(StringIO(response.text))\n",
    "        \n",
    "        print(df)\n",
    "        \n",
    "    else:\n",
    "        print(f\"Error: {response.status_code} - {response.text}\")\n",
    "    return df\n",
    "\n",
    "exoplanets_data = get_exoplanets_data_from_nasa()\n",
    "```\n",
    "\n",
    "If you run this cell twice you will notice from the logs that the second time file was read from the compressed file in the cache. If you were to lose access to local cache (e.g. by pulling the repository using different device) `persistio` would fetch the data from the cloud archive.\n",
    "\n",
    "\n",
    "For more information, visit our [documentation](https://github.com/your-repo/reprolab)."
   ]
  },
  {
   "cell_type": "code",
   "execution_count": 23,
   "id": "12fdb63a-a065-4418-8541-e5cf9f81cb3e",
   "metadata": {},
   "outputs": [
    {
     "name": "stdout",
     "output_type": "stream",
     "text": [
      "Requirement already satisfied: matplotlib in /opt/conda/envs/reprolab/lib/python3.13/site-packages (3.10.6)\n",
      "Requirement already satisfied: contourpy>=1.0.1 in /opt/conda/envs/reprolab/lib/python3.13/site-packages (from matplotlib) (1.3.3)\n",
      "Requirement already satisfied: cycler>=0.10 in /opt/conda/envs/reprolab/lib/python3.13/site-packages (from matplotlib) (0.12.1)\n",
      "Requirement already satisfied: fonttools>=4.22.0 in /opt/conda/envs/reprolab/lib/python3.13/site-packages (from matplotlib) (4.60.0)\n",
      "Requirement already satisfied: kiwisolver>=1.3.1 in /opt/conda/envs/reprolab/lib/python3.13/site-packages (from matplotlib) (1.4.9)\n",
      "Requirement already satisfied: numpy>=1.23 in /opt/conda/envs/reprolab/lib/python3.13/site-packages (from matplotlib) (2.3.3)\n",
      "Requirement already satisfied: packaging>=20.0 in /opt/conda/envs/reprolab/lib/python3.13/site-packages (from matplotlib) (25.0)\n",
      "Requirement already satisfied: pillow>=8 in /opt/conda/envs/reprolab/lib/python3.13/site-packages (from matplotlib) (11.3.0)\n",
      "Requirement already satisfied: pyparsing>=2.3.1 in /opt/conda/envs/reprolab/lib/python3.13/site-packages (from matplotlib) (3.2.5)\n",
      "Requirement already satisfied: python-dateutil>=2.7 in /opt/conda/envs/reprolab/lib/python3.13/site-packages (from matplotlib) (2.9.0.post0)\n",
      "Requirement already satisfied: six>=1.5 in /opt/conda/envs/reprolab/lib/python3.13/site-packages (from python-dateutil>=2.7->matplotlib) (1.17.0)\n"
     ]
    }
   ],
   "source": [
    "!pip install matplotlib"
   ]
  },
  {
   "cell_type": "code",
   "execution_count": 29,
   "id": "6b7d74c9-aa59-42cc-a2f6-61999f1a9f72",
   "metadata": {},
   "outputs": [],
   "source": [
    "# generate random data\n",
    "import numpy as np\n",
    "\n",
    "def get_random_dataset(amount_of_measurements=10, min_value=10, max_value=90, variation=10):\n",
    "    random_integers_x = np.random.randint(low=min_value, high=max_value, size=(1, amount_of_measurements))\n",
    "    random_variation = np.random.randint(low=-variation, high=variation, size=(1, amount_of_measurements))\n",
    "    correlated_integers_y = random_integers_x + random_variation\n",
    "    return np.concatenate((random_integers_x, correlated_integers_y), axis=0) \n",
    "\n",
    "random_dataset = get_random_dataset()"
   ]
  },
  {
   "cell_type": "code",
   "execution_count": 30,
   "id": "5919a4af-0a65-4a57-a665-a294eac8b65a",
   "metadata": {},
   "outputs": [
    {
     "data": {
      "text/plain": [
       "Text(0, 0.5, 'correlated_integers_y')"
      ]
     },
     "execution_count": 30,
     "metadata": {},
     "output_type": "execute_result"
    },
    {
     "data": {
      "image/png": "[encoded data removed]",
      "text/plain": [
       "<Figure size 640x480 with 1 Axes>"
      ]
     },
     "metadata": {},
     "output_type": "display_data"
    }
   ],
   "source": [
    "# Plot the data\n",
    "import matplotlib.pyplot as plt\n",
    "\n",
    "plt.scatter(random_dataset[0, :], random_dataset[1, :])\n",
    "plt.xlabel(f\"{random_integers_x=}\".split('=')[0])\n",
    "plt.ylabel(f\"{correlated_integers_y=}\".split('=')[0])"
   ]
  },
  {
   "cell_type": "code",
   "execution_count": null,
   "id": "91ff4fc6-af20-45b8-b2d8-880f0615700e",
   "metadata": {},
   "outputs": [],
   "source": []
  },
  {
   "cell_type": "code",
   "execution_count": 26,
   "id": "04236b2d-7bd1-4804-82e1-ad10eaeff7bc",
   "metadata": {},
   "outputs": [
    {
     "name": "stdout",
     "output_type": "stream",
     "text": [
      "[✔] Virtual environment 'my_venv' created at /home/jovyan/my_venv\n",
      "Requirement already satisfied: pip in ./my_venv/lib/python3.12/site-packages (25.2)\n",
      "[✔] Pip upgraded\n",
      "Requirement already satisfied: ipykernel in ./my_venv/lib/python3.12/site-packages (6.30.1)\n",
      "Requirement already satisfied: boto3 in ./my_venv/lib/python3.12/site-packages (1.40.34)\n",
      "Requirement already satisfied: ipylab in ./my_venv/lib/python3.12/site-packages (1.1.0)\n",
      "Requirement already satisfied: pandas in ./my_venv/lib/python3.12/site-packages (2.3.2)\n",
      "Requirement already satisfied: numpy in ./my_venv/lib/python3.12/site-packages (2.3.3)\n",
      "Requirement already satisfied: xarray in ./my_venv/lib/python3.12/site-packages (2025.9.0)\n",
      "Requirement already satisfied: requests in ./my_venv/lib/python3.12/site-packages (2.32.5)\n",
      "Requirement already satisfied: pyarrow in ./my_venv/lib/python3.12/site-packages (21.0.0)\n",
      "Requirement already satisfied: nbformat in ./my_venv/lib/python3.12/site-packages (5.10.4)\n",
      "Requirement already satisfied: pyyaml in ./my_venv/lib/python3.12/site-packages (6.0.2)\n",
      "Requirement already satisfied: ipywidgets in ./my_venv/lib/python3.12/site-packages (8.1.7)\n",
      "Requirement already satisfied: jupyterlab_widgets in ./my_venv/lib/python3.12/site-packages (3.0.15)\n",
      "Requirement already satisfied: reprolab in ./my_venv/lib/python3.12/site-packages (0.1.0)\n",
      "Requirement already satisfied: comm>=0.1.1 in ./my_venv/lib/python3.12/site-packages (from ipykernel) (0.2.3)\n",
      "Requirement already satisfied: debugpy>=1.6.5 in ./my_venv/lib/python3.12/site-packages (from ipykernel) (1.8.17)\n",
      "Requirement already satisfied: ipython>=7.23.1 in ./my_venv/lib/python3.12/site-packages (from ipykernel) (9.5.0)\n",
      "Requirement already satisfied: jupyter-client>=8.0.0 in ./my_venv/lib/python3.12/site-packages (from ipykernel) (8.6.3)\n",
      "Requirement already satisfied: jupyter-core!=5.0.*,>=4.12 in ./my_venv/lib/python3.12/site-packages (from ipykernel) (5.8.1)\n",
      "Requirement already satisfied: matplotlib-inline>=0.1 in ./my_venv/lib/python3.12/site-packages (from ipykernel) (0.1.7)\n",
      "Requirement already satisfied: nest-asyncio>=1.4 in ./my_venv/lib/python3.12/site-packages (from ipykernel) (1.6.0)\n",
      "Requirement already satisfied: packaging>=22 in ./my_venv/lib/python3.12/site-packages (from ipykernel) (25.0)\n",
      "Requirement already satisfied: psutil>=5.7 in ./my_venv/lib/python3.12/site-packages (from ipykernel) (7.1.0)\n",
      "Requirement already satisfied: pyzmq>=25 in ./my_venv/lib/python3.12/site-packages (from ipykernel) (27.1.0)\n",
      "Requirement already satisfied: tornado>=6.2 in ./my_venv/lib/python3.12/site-packages (from ipykernel) (6.5.2)\n",
      "Requirement already satisfied: traitlets>=5.4.0 in ./my_venv/lib/python3.12/site-packages (from ipykernel) (5.14.3)\n",
      "Requirement already satisfied: botocore<1.41.0,>=1.40.34 in ./my_venv/lib/python3.12/site-packages (from boto3) (1.40.34)\n",
      "Requirement already satisfied: jmespath<2.0.0,>=0.7.1 in ./my_venv/lib/python3.12/site-packages (from boto3) (1.0.1)\n",
      "Requirement already satisfied: s3transfer<0.15.0,>=0.14.0 in ./my_venv/lib/python3.12/site-packages (from boto3) (0.14.0)\n",
      "Requirement already satisfied: python-dateutil<3.0.0,>=2.1 in ./my_venv/lib/python3.12/site-packages (from botocore<1.41.0,>=1.40.34->boto3) (2.9.0.post0)\n",
      "Requirement already satisfied: urllib3!=2.2.0,<3,>=1.25.4 in ./my_venv/lib/python3.12/site-packages (from botocore<1.41.0,>=1.40.34->boto3) (2.5.0)\n",
      "Requirement already satisfied: six>=1.5 in ./my_venv/lib/python3.12/site-packages (from python-dateutil<3.0.0,>=2.1->botocore<1.41.0,>=1.40.34->boto3) (1.17.0)\n",
      "Requirement already satisfied: widgetsnbextension~=4.0.14 in ./my_venv/lib/python3.12/site-packages (from ipywidgets) (4.0.14)\n",
      "Requirement already satisfied: pytz>=2020.1 in ./my_venv/lib/python3.12/site-packages (from pandas) (2025.2)\n",
      "Requirement already satisfied: tzdata>=2022.7 in ./my_venv/lib/python3.12/site-packages (from pandas) (2025.2)\n",
      "Requirement already satisfied: charset_normalizer<4,>=2 in ./my_venv/lib/python3.12/site-packages (from requests) (3.4.3)\n",
      "Requirement already satisfied: idna<4,>=2.5 in ./my_venv/lib/python3.12/site-packages (from requests) (3.10)\n",
      "Requirement already satisfied: certifi>=2017.4.17 in ./my_venv/lib/python3.12/site-packages (from requests) (2025.8.3)\n",
      "Requirement already satisfied: fastjsonschema>=2.15 in ./my_venv/lib/python3.12/site-packages (from nbformat) (2.21.2)\n",
      "Requirement already satisfied: jsonschema>=2.6 in ./my_venv/lib/python3.12/site-packages (from nbformat) (4.25.1)\n",
      "Requirement already satisfied: jupyter-server>=2.0.0 in ./my_venv/lib/python3.12/site-packages (from reprolab) (2.17.0)\n",
      "Requirement already satisfied: jupyterlab<5,>=4.0.0 in ./my_venv/lib/python3.12/site-packages (from reprolab) (4.4.7)\n",
      "Requirement already satisfied: notebook>=7.0.0 in ./my_venv/lib/python3.12/site-packages (from reprolab) (7.4.5)\n",
      "Requirement already satisfied: async-lru>=1.0.0 in ./my_venv/lib/python3.12/site-packages (from jupyterlab<5,>=4.0.0->reprolab) (2.0.5)\n",
      "Requirement already satisfied: httpx<1,>=0.25.0 in ./my_venv/lib/python3.12/site-packages (from jupyterlab<5,>=4.0.0->reprolab) (0.28.1)\n",
      "Requirement already satisfied: jinja2>=3.0.3 in ./my_venv/lib/python3.12/site-packages (from jupyterlab<5,>=4.0.0->reprolab) (3.1.6)\n",
      "Requirement already satisfied: jupyter-lsp>=2.0.0 in ./my_venv/lib/python3.12/site-packages (from jupyterlab<5,>=4.0.0->reprolab) (2.3.0)\n",
      "Requirement already satisfied: jupyterlab-server<3,>=2.27.1 in ./my_venv/lib/python3.12/site-packages (from jupyterlab<5,>=4.0.0->reprolab) (2.27.3)\n",
      "Requirement already satisfied: notebook-shim>=0.2 in ./my_venv/lib/python3.12/site-packages (from jupyterlab<5,>=4.0.0->reprolab) (0.2.4)\n",
      "Requirement already satisfied: setuptools>=41.1.0 in ./my_venv/lib/python3.12/site-packages (from jupyterlab<5,>=4.0.0->reprolab) (80.9.0)\n",
      "Requirement already satisfied: anyio in ./my_venv/lib/python3.12/site-packages (from httpx<1,>=0.25.0->jupyterlab<5,>=4.0.0->reprolab) (4.10.0)\n",
      "Requirement already satisfied: httpcore==1.* in ./my_venv/lib/python3.12/site-packages (from httpx<1,>=0.25.0->jupyterlab<5,>=4.0.0->reprolab) (1.0.9)\n",
      "Requirement already satisfied: h11>=0.16 in ./my_venv/lib/python3.12/site-packages (from httpcore==1.*->httpx<1,>=0.25.0->jupyterlab<5,>=4.0.0->reprolab) (0.16.0)\n",
      "Requirement already satisfied: argon2-cffi>=21.1 in ./my_venv/lib/python3.12/site-packages (from jupyter-server>=2.0.0->reprolab) (25.1.0)\n",
      "Requirement already satisfied: jupyter-events>=0.11.0 in ./my_venv/lib/python3.12/site-packages (from jupyter-server>=2.0.0->reprolab) (0.12.0)\n",
      "Requirement already satisfied: jupyter-server-terminals>=0.4.4 in ./my_venv/lib/python3.12/site-packages (from jupyter-server>=2.0.0->reprolab) (0.5.3)\n",
      "Requirement already satisfied: nbconvert>=6.4.4 in ./my_venv/lib/python3.12/site-packages (from jupyter-server>=2.0.0->reprolab) (7.16.6)\n",
      "Requirement already satisfied: prometheus-client>=0.9 in ./my_venv/lib/python3.12/site-packages (from jupyter-server>=2.0.0->reprolab) (0.23.1)\n",
      "Requirement already satisfied: send2trash>=1.8.2 in ./my_venv/lib/python3.12/site-packages (from jupyter-server>=2.0.0->reprolab) (1.8.3)\n",
      "Requirement already satisfied: terminado>=0.8.3 in ./my_venv/lib/python3.12/site-packages (from jupyter-server>=2.0.0->reprolab) (0.18.1)\n",
      "Requirement already satisfied: websocket-client>=1.7 in ./my_venv/lib/python3.12/site-packages (from jupyter-server>=2.0.0->reprolab) (1.8.0)\n",
      "Requirement already satisfied: babel>=2.10 in ./my_venv/lib/python3.12/site-packages (from jupyterlab-server<3,>=2.27.1->jupyterlab<5,>=4.0.0->reprolab) (2.17.0)\n",
      "Requirement already satisfied: json5>=0.9.0 in ./my_venv/lib/python3.12/site-packages (from jupyterlab-server<3,>=2.27.1->jupyterlab<5,>=4.0.0->reprolab) (0.12.1)\n",
      "Requirement already satisfied: sniffio>=1.1 in ./my_venv/lib/python3.12/site-packages (from anyio->httpx<1,>=0.25.0->jupyterlab<5,>=4.0.0->reprolab) (1.3.1)\n",
      "Requirement already satisfied: typing_extensions>=4.5 in ./my_venv/lib/python3.12/site-packages (from anyio->httpx<1,>=0.25.0->jupyterlab<5,>=4.0.0->reprolab) (4.15.0)\n",
      "Requirement already satisfied: argon2-cffi-bindings in ./my_venv/lib/python3.12/site-packages (from argon2-cffi>=21.1->jupyter-server>=2.0.0->reprolab) (25.1.0)\n",
      "Requirement already satisfied: decorator in ./my_venv/lib/python3.12/site-packages (from ipython>=7.23.1->ipykernel) (5.2.1)\n",
      "Requirement already satisfied: ipython-pygments-lexers in ./my_venv/lib/python3.12/site-packages (from ipython>=7.23.1->ipykernel) (1.1.1)\n",
      "Requirement already satisfied: jedi>=0.16 in ./my_venv/lib/python3.12/site-packages (from ipython>=7.23.1->ipykernel) (0.19.2)\n",
      "Requirement already satisfied: pexpect>4.3 in ./my_venv/lib/python3.12/site-packages (from ipython>=7.23.1->ipykernel) (4.9.0)\n",
      "Requirement already satisfied: prompt_toolkit<3.1.0,>=3.0.41 in ./my_venv/lib/python3.12/site-packages (from ipython>=7.23.1->ipykernel) (3.0.52)\n",
      "Requirement already satisfied: pygments>=2.4.0 in ./my_venv/lib/python3.12/site-packages (from ipython>=7.23.1->ipykernel) (2.19.2)\n",
      "Requirement already satisfied: stack_data in ./my_venv/lib/python3.12/site-packages (from ipython>=7.23.1->ipykernel) (0.6.3)\n",
      "Requirement already satisfied: wcwidth in ./my_venv/lib/python3.12/site-packages (from prompt_toolkit<3.1.0,>=3.0.41->ipython>=7.23.1->ipykernel) (0.2.13)\n",
      "Requirement already satisfied: parso<0.9.0,>=0.8.4 in ./my_venv/lib/python3.12/site-packages (from jedi>=0.16->ipython>=7.23.1->ipykernel) (0.8.5)\n",
      "Requirement already satisfied: MarkupSafe>=2.0 in ./my_venv/lib/python3.12/site-packages (from jinja2>=3.0.3->jupyterlab<5,>=4.0.0->reprolab) (3.0.2)\n",
      "Requirement already satisfied: attrs>=22.2.0 in ./my_venv/lib/python3.12/site-packages (from jsonschema>=2.6->nbformat) (25.3.0)\n",
      "Requirement already satisfied: jsonschema-specifications>=2023.03.6 in ./my_venv/lib/python3.12/site-packages (from jsonschema>=2.6->nbformat) (2025.9.1)\n",
      "Requirement already satisfied: referencing>=0.28.4 in ./my_venv/lib/python3.12/site-packages (from jsonschema>=2.6->nbformat) (0.36.2)\n",
      "Requirement already satisfied: rpds-py>=0.7.1 in ./my_venv/lib/python3.12/site-packages (from jsonschema>=2.6->nbformat) (0.27.1)\n",
      "Requirement already satisfied: platformdirs>=2.5 in ./my_venv/lib/python3.12/site-packages (from jupyter-core!=5.0.*,>=4.12->ipykernel) (4.4.0)\n",
      "Requirement already satisfied: python-json-logger>=2.0.4 in ./my_venv/lib/python3.12/site-packages (from jupyter-events>=0.11.0->jupyter-server>=2.0.0->reprolab) (3.3.0)\n",
      "Requirement already satisfied: rfc3339-validator in ./my_venv/lib/python3.12/site-packages (from jupyter-events>=0.11.0->jupyter-server>=2.0.0->reprolab) (0.1.4)\n",
      "Requirement already satisfied: rfc3986-validator>=0.1.1 in ./my_venv/lib/python3.12/site-packages (from jupyter-events>=0.11.0->jupyter-server>=2.0.0->reprolab) (0.1.1)\n",
      "Requirement already satisfied: fqdn in ./my_venv/lib/python3.12/site-packages (from jsonschema[format-nongpl]>=4.18.0->jupyter-events>=0.11.0->jupyter-server>=2.0.0->reprolab) (1.5.1)\n",
      "Requirement already satisfied: isoduration in ./my_venv/lib/python3.12/site-packages (from jsonschema[format-nongpl]>=4.18.0->jupyter-events>=0.11.0->jupyter-server>=2.0.0->reprolab) (20.11.0)\n",
      "Requirement already satisfied: jsonpointer>1.13 in ./my_venv/lib/python3.12/site-packages (from jsonschema[format-nongpl]>=4.18.0->jupyter-events>=0.11.0->jupyter-server>=2.0.0->reprolab) (3.0.0)\n",
      "Requirement already satisfied: rfc3987-syntax>=1.1.0 in ./my_venv/lib/python3.12/site-packages (from jsonschema[format-nongpl]>=4.18.0->jupyter-events>=0.11.0->jupyter-server>=2.0.0->reprolab) (1.1.0)\n",
      "Requirement already satisfied: uri-template in ./my_venv/lib/python3.12/site-packages (from jsonschema[format-nongpl]>=4.18.0->jupyter-events>=0.11.0->jupyter-server>=2.0.0->reprolab) (1.3.0)\n",
      "Requirement already satisfied: webcolors>=24.6.0 in ./my_venv/lib/python3.12/site-packages (from jsonschema[format-nongpl]>=4.18.0->jupyter-events>=0.11.0->jupyter-server>=2.0.0->reprolab) (24.11.1)\n",
      "Requirement already satisfied: beautifulsoup4 in ./my_venv/lib/python3.12/site-packages (from nbconvert>=6.4.4->jupyter-server>=2.0.0->reprolab) (4.13.5)\n",
      "Requirement already satisfied: bleach!=5.0.0 in ./my_venv/lib/python3.12/site-packages (from bleach[css]!=5.0.0->nbconvert>=6.4.4->jupyter-server>=2.0.0->reprolab) (6.2.0)\n",
      "Requirement already satisfied: defusedxml in ./my_venv/lib/python3.12/site-packages (from nbconvert>=6.4.4->jupyter-server>=2.0.0->reprolab) (0.7.1)\n",
      "Requirement already satisfied: jupyterlab-pygments in ./my_venv/lib/python3.12/site-packages (from nbconvert>=6.4.4->jupyter-server>=2.0.0->reprolab) (0.3.0)\n",
      "Requirement already satisfied: mistune<4,>=2.0.3 in ./my_venv/lib/python3.12/site-packages (from nbconvert>=6.4.4->jupyter-server>=2.0.0->reprolab) (3.1.4)\n",
      "Requirement already satisfied: nbclient>=0.5.0 in ./my_venv/lib/python3.12/site-packages (from nbconvert>=6.4.4->jupyter-server>=2.0.0->reprolab) (0.10.2)\n",
      "Requirement already satisfied: pandocfilters>=1.4.1 in ./my_venv/lib/python3.12/site-packages (from nbconvert>=6.4.4->jupyter-server>=2.0.0->reprolab) (1.5.1)\n",
      "Requirement already satisfied: webencodings in ./my_venv/lib/python3.12/site-packages (from bleach!=5.0.0->bleach[css]!=5.0.0->nbconvert>=6.4.4->jupyter-server>=2.0.0->reprolab) (0.5.1)\n",
      "Requirement already satisfied: tinycss2<1.5,>=1.1.0 in ./my_venv/lib/python3.12/site-packages (from bleach[css]!=5.0.0->nbconvert>=6.4.4->jupyter-server>=2.0.0->reprolab) (1.4.0)\n",
      "Requirement already satisfied: ptyprocess>=0.5 in ./my_venv/lib/python3.12/site-packages (from pexpect>4.3->ipython>=7.23.1->ipykernel) (0.7.0)\n",
      "Requirement already satisfied: lark>=1.2.2 in ./my_venv/lib/python3.12/site-packages (from rfc3987-syntax>=1.1.0->jsonschema[format-nongpl]>=4.18.0->jupyter-events>=0.11.0->jupyter-server>=2.0.0->reprolab) (1.2.2)\n",
      "Requirement already satisfied: cffi>=1.0.1 in ./my_venv/lib/python3.12/site-packages (from argon2-cffi-bindings->argon2-cffi>=21.1->jupyter-server>=2.0.0->reprolab) (2.0.0)\n",
      "Requirement already satisfied: pycparser in ./my_venv/lib/python3.12/site-packages (from cffi>=1.0.1->argon2-cffi-bindings->argon2-cffi>=21.1->jupyter-server>=2.0.0->reprolab) (2.23)\n",
      "Requirement already satisfied: soupsieve>1.2 in ./my_venv/lib/python3.12/site-packages (from beautifulsoup4->nbconvert>=6.4.4->jupyter-server>=2.0.0->reprolab) (2.8)\n",
      "Requirement already satisfied: arrow>=0.15.0 in ./my_venv/lib/python3.12/site-packages (from isoduration->jsonschema[format-nongpl]>=4.18.0->jupyter-events>=0.11.0->jupyter-server>=2.0.0->reprolab) (1.3.0)\n",
      "Requirement already satisfied: types-python-dateutil>=2.8.10 in ./my_venv/lib/python3.12/site-packages (from arrow>=0.15.0->isoduration->jsonschema[format-nongpl]>=4.18.0->jupyter-events>=0.11.0->jupyter-server>=2.0.0->reprolab) (2.9.0.20250822)\n",
      "Requirement already satisfied: executing>=1.2.0 in ./my_venv/lib/python3.12/site-packages (from stack_data->ipython>=7.23.1->ipykernel) (2.2.1)\n",
      "Requirement already satisfied: asttokens>=2.1.0 in ./my_venv/lib/python3.12/site-packages (from stack_data->ipython>=7.23.1->ipykernel) (3.0.0)\n",
      "Requirement already satisfied: pure-eval in ./my_venv/lib/python3.12/site-packages (from stack_data->ipython>=7.23.1->ipykernel) (0.2.3)\n",
      "[✔] Installed packages: ipykernel, boto3, ipylab, pandas, numpy, xarray, requests, pyarrow, nbformat, pyyaml, ipywidgets, jupyterlab_widgets, reprolab\n",
      "Installed kernelspec my_venv_kernel in /home/jovyan/.local/share/jupyter/kernels/my_venv_kernel\n",
      "[✔] Kernel 'my_venv_kernel' registered for Jupyter\n",
      "\n",
      "🎉 Setup complete!\n",
      "➡ To use the virtual environment in Jupyter:\n",
      "   1. Restart your Jupyter server\n",
      "   2. Select kernel: ReproLab (my_venv)\n",
      "➡ ReproLab is automatically installed and ready to use!\n"
     ]
    }
   ],
   "source": [
    "from reprolab.environment import create_new_venv\n",
    "create_new_venv('my_venv')"
   ]
  },
  {
   "cell_type": "code",
   "execution_count": 27,
   "id": "d918179a-0b80-45da-94a8-bf0ac49015ca",
   "metadata": {},
   "outputs": [
    {
     "name": "stdout",
     "output_type": "stream",
     "text": [
      "Running command: /home/jovyan/my_venv/bin/pip freeze\n",
      "Pip dependencies saved to requirements.txt\n",
      "Found 108 packages\n",
      "\n",
      "To recreate the environment:\n",
      "- Activate the virtual environment and run: `pip install -r requirements.txt`\n"
     ]
    }
   ],
   "source": [
    "from reprolab.environment import freeze_venv_dependencies\n",
    "freeze_venv_dependencies('my_venv')"
   ]
  }
 ],
 "metadata": {
  "kernelspec": {
   "display_name": "Python [conda env:reprolab]",
   "language": "python",
   "name": "conda-env-reprolab-py"
  },
  "language_info": {
   "codemirror_mode": {
    "name": "ipython",
    "version": 3
   },
   "file_extension": ".py",
   "mimetype": "text/x-python",
   "name": "python",
   "nbconvert_exporter": "python",
   "pygments_lexer": "ipython3",
   "version": "3.13.7"
  }
 },
 "nbformat": 4,
 "nbformat_minor": 5
}
