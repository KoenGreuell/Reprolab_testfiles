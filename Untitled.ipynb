{
 "cells": [
  {
   "cell_type": "code",
   "execution_count": null,
   "id": "b093ae16-636c-48eb-935d-9f5fb1a535b1",
   "metadata": {},
   "outputs": [],
   "source": []
  },
  {
   "cell_type": "code",
   "execution_count": null,
   "id": "70275346-69ec-4d6e-8acb-169761850268",
   "metadata": {},
   "outputs": [
    {
     "name": "stderr",
     "output_type": "stream",
     "text": [
      "2025-09-19 15:18:45 - INFO - Starting experiment process\n",
      "2025-09-19 15:18:45 - INFO - Step 1: Saving all notebooks\n",
      "2025-09-19 15:18:45 - INFO - Attempting to save all Jupyter notebooks...\n",
      "2025-09-19 15:18:46 - INFO - ipylab save command executed successfully\n",
      "2025-09-19 15:18:46 - INFO - nbformat processing completed for 3 notebooks\n"
     ]
    }
   ],
   "source": [
    "from reprolab.experiment import start_experiment\n",
    "start_experiment()"
   ]
  },
  {
   "cell_type": "code",
   "execution_count": null,
   "id": "4db04e5a-3707-4f39-84ba-730c3dcc8ed2",
   "metadata": {},
   "outputs": [],
   "source": [
    "from reprolab.experiment import end_experiment\n",
    "end_experiment()"
   ]
  }
 ],
 "metadata": {
  "kernelspec": {
   "display_name": "Python [conda env:reprolab]",
   "language": "python",
   "name": "conda-env-reprolab-py"
  },
  "language_info": {
   "codemirror_mode": {
    "name": "ipython",
    "version": 3
   },
   "file_extension": ".py",
   "mimetype": "text/x-python",
   "name": "python",
   "nbconvert_exporter": "python",
   "pygments_lexer": "ipython3",
   "version": "3.13.7"
  }
 },
 "nbformat": 4,
 "nbformat_minor": 5
}
