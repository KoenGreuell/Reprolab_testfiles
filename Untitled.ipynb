{
 "cells": [
  {
   "cell_type": "code",
   "execution_count": null,
   "id": "a8e7ebab-0c6d-4f2e-a1c7-893bf3d868ba",
   "metadata": {},
   "outputs": [],
   "source": []
  }
 ],
 "metadata": {
  "kernelspec": {
   "display_name": "Python [conda env:lter-life-wadden]",
   "language": "python",
   "name": "conda-env-lter-life-wadden-py"
  },
  "language_info": {
   "codemirror_mode": {
    "name": "ipython",
    "version": 3
   },
   "file_extension": ".py",
   "mimetype": "text/x-python",
   "name": "python",
   "nbconvert_exporter": "python",
   "pygments_lexer": "ipython3",
   "version": "3.11.0"
  }
 },
 "nbformat": 4,
 "nbformat_minor": 5
}
