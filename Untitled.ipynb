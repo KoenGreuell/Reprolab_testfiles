{
 "cells": [
  {
   "cell_type": "code",
   "execution_count": null,
   "id": "b093ae16-636c-48eb-935d-9f5fb1a535b1",
   "metadata": {},
   "outputs": [],
   "source": []
  },
  {
   "cell_type": "code",
   "execution_count": 1,
   "id": "70275346-69ec-4d6e-8acb-169761850268",
   "metadata": {},
   "outputs": [
    {
     "name": "stderr",
     "output_type": "stream",
     "text": [
      "2025-09-19 15:18:45 - INFO - Starting experiment process\n",
      "2025-09-19 15:18:45 - INFO - Step 1: Saving all notebooks\n",
      "2025-09-19 15:18:45 - INFO - Attempting to save all Jupyter notebooks...\n",
      "2025-09-19 15:18:46 - INFO - ipylab save command executed successfully\n",
      "2025-09-19 15:18:46 - INFO - nbformat processing completed for 3 notebooks\n",
      "2025-09-19 15:18:47 - INFO - Jupyter save commands executed successfully\n",
      "2025-09-19 15:18:47 - INFO - All save methods completed\n",
      "2025-09-19 15:18:47 - INFO - Step 2: Determining next tag name\n",
      "2025-09-19 15:18:47 - INFO - Determining next tag name\n",
      "2025-09-19 15:18:47 - INFO - Fetching all tags from remote repositories\n",
      "2025-09-19 15:18:47 - INFO - Found 5 tags: ['v1.0.0', 'v1.1.0', 'v1.2.0', 'v1.3.0', 'v1.4.0']\n",
      "2025-09-19 15:18:47 - INFO - Latest tag: v1.4.0, next tag: v1.5.0\n",
      "2025-09-19 15:18:47 - INFO - Step 3: Committing with message: 'Project state before running experiment v1.5.0'\n",
      "2025-09-19 15:18:47 - INFO - Starting commit process with message: 'Project state before running experiment v1.5.0'\n",
      "2025-09-19 15:18:47 - INFO - Adding all files to staging area\n",
      "2025-09-19 15:18:47 - INFO - Starting process to add all files to git staging area\n",
      "2025-09-19 15:18:47 - INFO - Checking git status for all files\n",
      "2025-09-19 15:18:47 - INFO - Found 0 untracked files\n",
      "2025-09-19 15:18:47 - INFO - Found 0 modified files\n",
      "2025-09-19 15:18:47 - INFO - Found 0 deleted files\n",
      "2025-09-19 15:18:47 - INFO - No changes detected, but proceeding with add anyway\n",
      "2025-09-19 15:18:47 - INFO - Adding all files to git staging\n",
      "2025-09-19 15:18:47 - INFO - Successfully added all files to staging\n",
      "2025-09-19 15:18:47 - INFO - Checking for staged changes\n",
      "2025-09-19 15:18:47 - INFO - Staged 1 files for commit\n",
      "2025-09-19 15:18:47 - INFO - Creating commit with message: 'Project state before running experiment v1.5.0'\n",
      "2025-09-19 15:18:48 - INFO - Successfully committed: Project state before running experiment v1.5.0\n",
      "2025-09-19 15:18:48 - INFO - Successfully started experiment: v1.5.0\n"
     ]
    },
    {
     "data": {
      "text/plain": [
       "'v1.5.0'"
      ]
     },
     "execution_count": 1,
     "metadata": {},
     "output_type": "execute_result"
    }
   ],
   "source": [
    "from reprolab.experiment import start_experiment\n",
    "start_experiment()"
   ]
  },
  {
   "cell_type": "code",
   "execution_count": null,
   "id": "4db04e5a-3707-4f39-84ba-730c3dcc8ed2",
   "metadata": {},
   "outputs": [
    {
     "name": "stderr",
     "output_type": "stream",
     "text": [
      "2025-09-19 15:18:48 - INFO - Ending experiment process\n",
      "2025-09-19 15:18:48 - INFO - Step 1: Saving all notebooks\n",
      "2025-09-19 15:18:48 - INFO - Attempting to save all Jupyter notebooks...\n",
      "2025-09-19 15:18:48 - INFO - ipylab save command executed successfully\n",
      "2025-09-19 15:18:48 - INFO - nbformat processing completed for 3 notebooks\n"
     ]
    }
   ],
   "source": [
    "from reprolab.experiment import end_experiment\n",
    "end_experiment()"
   ]
  }
 ],
 "metadata": {
  "kernelspec": {
   "display_name": "Python [conda env:reprolab]",
   "language": "python",
   "name": "conda-env-reprolab-py"
  },
  "language_info": {
   "codemirror_mode": {
    "name": "ipython",
    "version": 3
   },
   "file_extension": ".py",
   "mimetype": "text/x-python",
   "name": "python",
   "nbconvert_exporter": "python",
   "pygments_lexer": "ipython3",
   "version": "3.13.7"
  }
 },
 "nbformat": 4,
 "nbformat_minor": 5
}
