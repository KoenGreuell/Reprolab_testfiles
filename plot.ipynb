{
 "cells": [
  {
   "cell_type": "code",
   "execution_count": 12,
   "id": "eeb242b2-c3d0-44fd-a829-20c878fed90e",
   "metadata": {},
   "outputs": [
    {
     "name": "stdout",
     "output_type": "stream",
     "text": [
      "Requirement already satisfied: matplotlib in /opt/conda/envs/reprolab/lib/python3.13/site-packages (3.10.6)\n",
      "Requirement already satisfied: contourpy>=1.0.1 in /opt/conda/envs/reprolab/lib/python3.13/site-packages (from matplotlib) (1.3.3)\n",
      "Requirement already satisfied: cycler>=0.10 in /opt/conda/envs/reprolab/lib/python3.13/site-packages (from matplotlib) (0.12.1)\n",
      "Requirement already satisfied: fonttools>=4.22.0 in /opt/conda/envs/reprolab/lib/python3.13/site-packages (from matplotlib) (4.60.0)\n",
      "Requirement already satisfied: kiwisolver>=1.3.1 in /opt/conda/envs/reprolab/lib/python3.13/site-packages (from matplotlib) (1.4.9)\n",
      "Requirement already satisfied: numpy>=1.23 in /opt/conda/envs/reprolab/lib/python3.13/site-packages (from matplotlib) (2.3.3)\n",
      "Requirement already satisfied: packaging>=20.0 in /opt/conda/envs/reprolab/lib/python3.13/site-packages (from matplotlib) (25.0)\n",
      "Requirement already satisfied: pillow>=8 in /opt/conda/envs/reprolab/lib/python3.13/site-packages (from matplotlib) (11.3.0)\n",
      "Requirement already satisfied: pyparsing>=2.3.1 in /opt/conda/envs/reprolab/lib/python3.13/site-packages (from matplotlib) (3.2.4)\n",
      "Requirement already satisfied: python-dateutil>=2.7 in /opt/conda/envs/reprolab/lib/python3.13/site-packages (from matplotlib) (2.9.0.post0)\n",
      "Requirement already satisfied: six>=1.5 in /opt/conda/envs/reprolab/lib/python3.13/site-packages (from python-dateutil>=2.7->matplotlib) (1.17.0)\n"
     ]
    }
   ],
   "source": [
    "!pip install matplotlib "
   ]
  },
  {
   "cell_type": "code",
   "execution_count": 13,
   "id": "53268d6d-6a0e-4b94-a886-9fc833499543",
   "metadata": {},
   "outputs": [],
   "source": [
    "import random\n",
    "random_integers = [random.randint(10, 90) for _ in range(10)]\n",
    "correlated_random_integers = [x + random.randint(1, 10) for x in random_integers]"
   ]
  },
  {
   "cell_type": "code",
   "execution_count": 14,
   "id": "f3077a68-d429-4cda-96cc-d25952986b40",
   "metadata": {},
   "outputs": [
    {
     "data": {
      "text/plain": [
       "<matplotlib.collections.PathCollection at 0x7f95b41a5950>"
      ]
     },
     "execution_count": 14,
     "metadata": {},
     "output_type": "execute_result"
    },
    {
     "data": {
      "image/png": "[encoded data removed]",
      "text/plain": [
       "<Figure size 640x480 with 1 Axes>"
      ]
     },
     "metadata": {},
     "output_type": "display_data"
    }
   ],
   "source": [
    "import matplotlib.pyplot as plt\n",
    "plt.scatter(random_integers, correlated_random_integers)\n"
   ]
  },
  {
   "cell_type": "code",
   "execution_count": null,
   "id": "ab411ca8-0bd4-4a37-91bb-1ad4fd6451bf",
   "metadata": {},
   "outputs": [],
   "source": []
  },
  {
   "cell_type": "code",
   "execution_count": null,
   "id": "7ea73501-e404-452c-a665-2f87f20de704",
   "metadata": {},
   "outputs": [
    {
     "name": "stderr",
     "output_type": "stream",
     "text": [
      "2025-09-19 15:28:48 - INFO - Starting experiment process\n",
      "2025-09-19 15:28:48 - INFO - Step 1: Saving all notebooks\n",
      "2025-09-19 15:28:48 - INFO - Attempting to save all Jupyter notebooks...\n",
      "2025-09-19 15:28:49 - INFO - ipylab save command executed successfully\n",
      "2025-09-19 15:28:49 - INFO - nbformat processing completed for 3 notebooks\n"
     ]
    }
   ],
   "source": [
    "from reprolab.experiment import start_experiment\n",
    "start_experiment()"
   ]
  },
  {
   "cell_type": "code",
   "execution_count": 16,
   "id": "b60e55cd-a1f3-4e57-bad7-de1018ba8f32",
   "metadata": {},
   "outputs": [
    {
     "name": "stderr",
     "output_type": "stream",
     "text": [
      "2025-09-19 15:28:03 - INFO - Ending experiment process\n",
      "2025-09-19 15:28:03 - INFO - Step 1: Saving all notebooks\n",
      "2025-09-19 15:28:03 - INFO - Attempting to save all Jupyter notebooks...\n",
      "2025-09-19 15:28:03 - INFO - ipylab save command executed successfully\n",
      "2025-09-19 15:28:03 - INFO - nbformat processing completed for 3 notebooks\n",
      "2025-09-19 15:28:04 - INFO - Jupyter save commands executed successfully\n",
      "2025-09-19 15:28:04 - INFO - All save methods completed\n",
      "2025-09-19 15:28:04 - INFO - Step 2: Determining next tag name\n",
      "2025-09-19 15:28:04 - INFO - Determining next tag name\n",
      "2025-09-19 15:28:04 - INFO - Fetching all tags from remote repositories\n",
      "2025-09-19 15:28:04 - INFO - Found 6 tags: ['v1.0.0', 'v1.1.0', 'v1.2.0', 'v1.3.0', 'v1.4.0', 'v1.5.0']\n",
      "2025-09-19 15:28:04 - INFO - Latest tag: v1.5.0, next tag: v1.6.0\n",
      "2025-09-19 15:28:04 - INFO - Step 3: Committing with message: 'Project state after running experiment v1.6.0'\n",
      "2025-09-19 15:28:04 - INFO - Starting commit process with message: 'Project state after running experiment v1.6.0'\n",
      "2025-09-19 15:28:04 - INFO - Adding all files to staging area\n",
      "2025-09-19 15:28:04 - INFO - Starting process to add all files to git staging area\n",
      "2025-09-19 15:28:04 - INFO - Checking git status for all files\n",
      "2025-09-19 15:28:04 - INFO - Found 0 untracked files\n",
      "2025-09-19 15:28:04 - INFO - Found 0 modified files\n",
      "2025-09-19 15:28:04 - INFO - Found 0 deleted files\n",
      "2025-09-19 15:28:04 - INFO - No changes detected, but proceeding with add anyway\n",
      "2025-09-19 15:28:04 - INFO - Adding all files to git staging\n",
      "2025-09-19 15:28:04 - INFO - Successfully added all files to staging\n",
      "2025-09-19 15:28:04 - INFO - Checking for staged changes\n",
      "2025-09-19 15:28:04 - WARNING - No staged changes detected, but proceeding with commit anyway\n",
      "2025-09-19 15:28:04 - INFO - This will create an empty commit if no changes are present\n",
      "2025-09-19 15:28:04 - INFO - Creating commit with message: 'Project state after running experiment v1.6.0'\n",
      "2025-09-19 15:28:04 - ERROR - Error creating commit: Command '['git', 'commit', '-m', 'Project state after running experiment v1.6.0']' returned non-zero exit status 1.\n",
      "2025-09-19 15:28:04 - ERROR - Command output: On branch main\n",
      "Your branch is ahead of 'origin/main' by 4 commits.\n",
      "  (use \"git push\" to publish your local commits)\n",
      "\n",
      "Changes not staged for commit:\n",
      "  (use \"git add <file>...\" to update what will be committed)\n",
      "  (use \"git restore <file>...\" to discard changes in working directory)\n",
      "\tmodified:   plot.ipynb\n",
      "\n",
      "no changes added to commit (use \"git add\" and/or \"git commit -a\")\n",
      "\n",
      "2025-09-19 15:28:04 - ERROR - Command error: \n",
      "2025-09-19 15:28:04 - ERROR - Failed to end experiment - commit failed\n"
     ]
    },
    {
     "data": {
      "text/plain": [
       "''"
      ]
     },
     "execution_count": 16,
     "metadata": {},
     "output_type": "execute_result"
    }
   ],
   "source": [
    "from reprolab.experiment import end_experiment\n",
    "end_experiment()"
   ]
  }
 ],
 "metadata": {
  "kernelspec": {
   "display_name": "Python [conda env:reprolab]",
   "language": "python",
   "name": "conda-env-reprolab-py"
  },
  "language_info": {
   "codemirror_mode": {
    "name": "ipython",
    "version": 3
   },
   "file_extension": ".py",
   "mimetype": "text/x-python",
   "name": "python",
   "nbconvert_exporter": "python",
   "pygments_lexer": "ipython3",
   "version": "3.13.7"
  }
 },
 "nbformat": 4,
 "nbformat_minor": 5
}
