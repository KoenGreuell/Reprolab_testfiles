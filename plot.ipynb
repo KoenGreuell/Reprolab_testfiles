{
 "cells": [
  {
   "cell_type": "code",
   "execution_count": null,
   "id": "eeb242b2-c3d0-44fd-a829-20c878fed90e",
   "metadata": {},
   "outputs": [],
   "source": [
    "!pip install matplotlib "
   ]
  },
  {
   "cell_type": "code",
   "execution_count": 18,
   "id": "7ea73501-e404-452c-a665-2f87f20de704",
   "metadata": {},
   "outputs": [
    {
     "name": "stderr",
     "output_type": "stream",
     "text": [
      "2025-09-19 15:29:30 - INFO - Starting experiment process\n",
      "2025-09-19 15:29:30 - INFO - Step 1: Saving all notebooks\n",
      "2025-09-19 15:29:30 - INFO - Attempting to save all Jupyter notebooks...\n",
      "2025-09-19 15:29:30 - INFO - ipylab save command executed successfully\n",
      "2025-09-19 15:29:30 - INFO - nbformat processing completed for 3 notebooks\n",
      "2025-09-19 15:29:31 - INFO - Jupyter save commands executed successfully\n",
      "2025-09-19 15:29:31 - INFO - All save methods completed\n",
      "2025-09-19 15:29:31 - INFO - Step 2: Determining next tag name\n",
      "2025-09-19 15:29:31 - INFO - Determining next tag name\n",
      "2025-09-19 15:29:31 - INFO - Fetching all tags from remote repositories\n",
      "2025-09-19 15:29:31 - INFO - Found 6 tags: ['v1.0.0', 'v1.1.0', 'v1.2.0', 'v1.3.0', 'v1.4.0', 'v1.5.0']\n",
      "2025-09-19 15:29:31 - INFO - Latest tag: v1.5.0, next tag: v1.6.0\n",
      "2025-09-19 15:29:31 - INFO - Step 3: Committing with message: 'Project state before running experiment v1.6.0'\n",
      "2025-09-19 15:29:31 - INFO - Starting commit process with message: 'Project state before running experiment v1.6.0'\n",
      "2025-09-19 15:29:31 - INFO - Adding all files to staging area\n",
      "2025-09-19 15:29:31 - INFO - Starting process to add all files to git staging area\n",
      "2025-09-19 15:29:31 - INFO - Checking git status for all files\n",
      "2025-09-19 15:29:31 - INFO - Found 0 untracked files\n",
      "2025-09-19 15:29:31 - INFO - Found 0 modified files\n",
      "2025-09-19 15:29:31 - INFO - Found 0 deleted files\n",
      "2025-09-19 15:29:31 - INFO - No changes detected, but proceeding with add anyway\n",
      "2025-09-19 15:29:31 - INFO - Adding all files to git staging\n",
      "2025-09-19 15:29:31 - INFO - Successfully added all files to staging\n",
      "2025-09-19 15:29:31 - INFO - Checking for staged changes\n",
      "2025-09-19 15:29:31 - INFO - Staged 1 files for commit\n",
      "2025-09-19 15:29:31 - INFO - Creating commit with message: 'Project state before running experiment v1.6.0'\n",
      "2025-09-19 15:29:31 - INFO - Successfully committed: Project state before running experiment v1.6.0\n",
      "2025-09-19 15:29:31 - INFO - Successfully started experiment: v1.6.0\n"
     ]
    },
    {
     "data": {
      "text/plain": [
       "'v1.6.0'"
      ]
     },
     "execution_count": 18,
     "metadata": {},
     "output_type": "execute_result"
    }
   ],
   "source": [
    "from reprolab.experiment import start_experiment\n",
    "start_experiment()"
   ]
  },
  {
   "cell_type": "code",
   "execution_count": 19,
   "id": "53268d6d-6a0e-4b94-a886-9fc833499543",
   "metadata": {},
   "outputs": [],
   "source": [
    "import random\n",
    "random_integers = [random.randint(10, 90) for _ in range(10)]\n",
    "correlated_random_integers = [x + random.randint(1, 10) for x in random_integers]"
   ]
  },
  {
   "cell_type": "code",
   "execution_count": 20,
   "id": "f3077a68-d429-4cda-96cc-d25952986b40",
   "metadata": {},
   "outputs": [
    {
     "data": {
      "text/plain": [
       "<matplotlib.collections.PathCollection at 0x7f9576272e90>"
      ]
     },
     "execution_count": 20,
     "metadata": {},
     "output_type": "execute_result"
    },
    {
     "data": {
      "image/png": "[encoded data removed]",
      "text/plain": [
       "<Figure size 640x480 with 1 Axes>"
      ]
     },
     "metadata": {},
     "output_type": "display_data"
    }
   ],
   "source": [
    "import matplotlib.pyplot as plt\n",
    "plt.scatter(random_integers, correlated_random_integers)\n"
   ]
  },
  {
   "cell_type": "code",
   "execution_count": null,
   "id": "b60e55cd-a1f3-4e57-bad7-de1018ba8f32",
   "metadata": {},
   "outputs": [
    {
     "name": "stderr",
     "output_type": "stream",
     "text": [
      "2025-09-19 15:29:45 - INFO - Ending experiment process\n",
      "2025-09-19 15:29:45 - INFO - Step 1: Saving all notebooks\n",
      "2025-09-19 15:29:45 - INFO - Attempting to save all Jupyter notebooks...\n",
      "2025-09-19 15:29:46 - INFO - ipylab save command executed successfully\n",
      "2025-09-19 15:29:46 - INFO - nbformat processing completed for 3 notebooks\n"
     ]
    }
   ],
   "source": [
    "from reprolab.experiment import end_experiment\n",
    "end_experiment()"
   ]
  },
  {
   "cell_type": "code",
   "execution_count": null,
   "id": "78840ac8-80e2-43ef-bca2-8776625252e4",
   "metadata": {},
   "outputs": [],
   "source": []
  }
 ],
 "metadata": {
  "kernelspec": {
   "display_name": "Python [conda env:reprolab]",
   "language": "python",
   "name": "conda-env-reprolab-py"
  },
  "language_info": {
   "codemirror_mode": {
    "name": "ipython",
    "version": 3
   },
   "file_extension": ".py",
   "mimetype": "text/x-python",
   "name": "python",
   "nbconvert_exporter": "python",
   "pygments_lexer": "ipython3",
   "version": "3.13.7"
  }
 },
 "nbformat": 4,
 "nbformat_minor": 5
}
