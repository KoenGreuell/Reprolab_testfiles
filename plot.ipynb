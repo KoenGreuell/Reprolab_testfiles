{
 "cells": [
  {
   "cell_type": "markdown",
   "id": "47f2ac5c-cb6a-4b60-8669-50da79402e7c",
   "metadata": {},
   "source": [
    "# ReproLab Demo\n",
    "\n",
    "Welcome to ReproLab! This extension helps you make your research more reproducible.\n",
    "\n",
    "## Features\n",
    "\n",
    "- **Create Experiments**: Automatically save immutable snapshots of your code under `git` tags to preserve the **exact code and outputs**\n",
    "- **Manage Dependencies**: Automatically gather and pin **exact package versions**, so that others can set up your environment with one command\n",
    "- **Cache Data**: Call external API/load manually dataset only once, caching function will handle the rest\n",
    "- **Archive Data**: Caching function can also preserve the compressed data in *AWS S3*, so you always know what data was used and reduce the API calls\n",
    "- **Publishing guide**: The reproducibility checklist & automated generation of reproducability package make publishing to platforms such as Zenodo very easy\n",
    "\n",
    "## Getting Started\n",
    "\n",
    "1. Use the sidebar to view ReproLab features\n",
    "2. Create virtual environment and pin your dependencies, go to reprolab section `Create reproducible environment` \n",
    "3. Create an experiment to save your current state, go to reprolab section `Create experiment`\n",
    "4. Archive your data for long-term storage, go to reprolab section `Demo` and play around with it.\n",
    "5. Publish your work when ready, remember to use reproducability checklist from the section `Reproducibility Checklist`\n",
    "\n",
    "## Example Usage of persistio decorator\n",
    "\n",
    "To cache and archive the datasets you use, both from local files and APIs we developed a simple decorator that put over your function that gets the datasets caches the file both locally and in the cloud so that the dataset you use is archived and the number of calls to external APIs is minimal and you don't need to keep the file around after you run it once.\n",
    "\n",
    "Here is an example using one of NASA open APIs. If you want to test it out yourself, you can copy the code, but you need to provide bucket name and access and secret key in the left-hand panel using the `AWS S3 Configuration` section.\n",
    "\n",
    "```python\n",
    "import requests\n",
    "import pandas as pd\n",
    "from io import StringIO\n",
    "\n",
    "# The two lines below is all that you need to add\n",
    "from reprolab.experiment import persistio\n",
    "@persistio()\n",
    "def get_exoplanets_data_from_nasa():\n",
    "    url = \"https://exoplanetarchive.ipac.caltech.edu/TAP/sync\"\n",
    "\n",
    "    query = \"\"\"\n",
    "    SELECT TOP 10\n",
    "        pl_name AS planet_name,\n",
    "        hostname AS host_star,\n",
    "        pl_orbper AS orbital_period_days,\n",
    "        pl_rade AS planet_radius_earth,\n",
    "        disc_year AS discovery_year\n",
    "    FROM\n",
    "        ps\n",
    "    WHERE\n",
    "        default_flag = 1\n",
    "    \"\"\"\n",
    "\n",
    "    params = {\n",
    "        \"query\": query,\n",
    "        \"format\": \"csv\"\n",
    "    }\n",
    "\n",
    "    response = requests.get(url, params=params)\n",
    "\n",
    "    if response.status_code == 200:\n",
    "        df = pd.read_csv(StringIO(response.text))\n",
    "        \n",
    "        print(df)\n",
    "        \n",
    "    else:\n",
    "        print(f\"Error: {response.status_code} - {response.text}\")\n",
    "    return df\n",
    "\n",
    "exoplanets_data = get_exoplanets_data_from_nasa()\n",
    "```\n",
    "\n",
    "If you run this cell twice you will notice from the logs that the second time file was read from the compressed file in the cache. If you were to lose access to local cache (e.g. by pulling the repository using different device) `persistio` would fetch the data from the cloud archive.\n",
    "\n",
    "\n",
    "For more information, visit our [documentation](https://github.com/your-repo/reprolab)."
   ]
  },
  {
   "cell_type": "code",
   "execution_count": 1,
   "id": "eeb242b2-c3d0-44fd-a829-20c878fed90e",
   "metadata": {},
   "outputs": [
    {
     "name": "stdout",
     "output_type": "stream",
     "text": [
      "Collecting matplotlib\n",
      "  Using cached matplotlib-3.10.6-cp313-cp313-manylinux2014_x86_64.manylinux_2_17_x86_64.whl.metadata (11 kB)\n",
      "Collecting contourpy>=1.0.1 (from matplotlib)\n",
      "  Using cached contourpy-1.3.3-cp313-cp313-manylinux_2_27_x86_64.manylinux_2_28_x86_64.whl.metadata (5.5 kB)\n",
      "Collecting cycler>=0.10 (from matplotlib)\n",
      "  Using cached cycler-0.12.1-py3-none-any.whl.metadata (3.8 kB)\n",
      "Collecting fonttools>=4.22.0 (from matplotlib)\n",
      "  Using cached fonttools-4.60.0-cp313-cp313-manylinux1_x86_64.manylinux2014_x86_64.manylinux_2_17_x86_64.manylinux_2_5_x86_64.whl.metadata (111 kB)\n",
      "Collecting kiwisolver>=1.3.1 (from matplotlib)\n",
      "  Using cached kiwisolver-1.4.9-cp313-cp313-manylinux2014_x86_64.manylinux_2_17_x86_64.whl.metadata (6.3 kB)\n",
      "Requirement already satisfied: numpy>=1.23 in /opt/conda/envs/reprolab/lib/python3.13/site-packages (from matplotlib) (2.3.3)\n",
      "Requirement already satisfied: packaging>=20.0 in /opt/conda/envs/reprolab/lib/python3.13/site-packages (from matplotlib) (25.0)\n",
      "Collecting pillow>=8 (from matplotlib)\n",
      "  Using cached pillow-11.3.0-cp313-cp313-manylinux_2_27_x86_64.manylinux_2_28_x86_64.whl.metadata (9.0 kB)\n",
      "Collecting pyparsing>=2.3.1 (from matplotlib)\n",
      "  Using cached pyparsing-3.2.5-py3-none-any.whl.metadata (5.0 kB)\n",
      "Requirement already satisfied: python-dateutil>=2.7 in /opt/conda/envs/reprolab/lib/python3.13/site-packages (from matplotlib) (2.9.0.post0)\n",
      "Requirement already satisfied: six>=1.5 in /opt/conda/envs/reprolab/lib/python3.13/site-packages (from python-dateutil>=2.7->matplotlib) (1.17.0)\n",
      "Using cached matplotlib-3.10.6-cp313-cp313-manylinux2014_x86_64.manylinux_2_17_x86_64.whl (8.7 MB)\n",
      "Using cached contourpy-1.3.3-cp313-cp313-manylinux_2_27_x86_64.manylinux_2_28_x86_64.whl (362 kB)\n",
      "Using cached cycler-0.12.1-py3-none-any.whl (8.3 kB)\n",
      "Using cached fonttools-4.60.0-cp313-cp313-manylinux1_x86_64.manylinux2014_x86_64.manylinux_2_17_x86_64.manylinux_2_5_x86_64.whl (4.9 MB)\n",
      "Using cached kiwisolver-1.4.9-cp313-cp313-manylinux2014_x86_64.manylinux_2_17_x86_64.whl (1.5 MB)\n",
      "Using cached pillow-11.3.0-cp313-cp313-manylinux_2_27_x86_64.manylinux_2_28_x86_64.whl (6.6 MB)\n",
      "Using cached pyparsing-3.2.5-py3-none-any.whl (113 kB)\n",
      "Installing collected packages: pyparsing, pillow, kiwisolver, fonttools, cycler, contourpy, matplotlib\n",
      "Successfully installed contourpy-1.3.3 cycler-0.12.1 fonttools-4.60.0 kiwisolver-1.4.9 matplotlib-3.10.6 pillow-11.3.0 pyparsing-3.2.5\n"
     ]
    }
   ],
   "source": [
    "!pip install matplotlib "
   ]
  },
  {
   "cell_type": "code",
   "execution_count": 2,
   "id": "7ea73501-e404-452c-a665-2f87f20de704",
   "metadata": {},
   "outputs": [
    {
     "name": "stderr",
     "output_type": "stream",
     "text": [
      "2025-09-22 08:37:04 - INFO - Starting experiment process\n",
      "2025-09-22 08:37:04 - INFO - Step 1: Saving all notebooks\n",
      "2025-09-22 08:37:04 - INFO - Attempting to save all Jupyter notebooks...\n",
      "2025-09-22 08:37:05 - INFO - ipylab save command executed successfully\n",
      "2025-09-22 08:37:06 - INFO - nbformat processing completed for 3 notebooks\n",
      "2025-09-22 08:37:06 - INFO - Jupyter save commands executed successfully\n",
      "2025-09-22 08:37:06 - INFO - All save methods completed\n",
      "2025-09-22 08:37:06 - INFO - Step 2: Determining next tag name\n",
      "2025-09-22 08:37:06 - INFO - Determining next tag name\n",
      "2025-09-22 08:37:06 - INFO - Fetching all tags from remote repositories\n",
      "2025-09-22 08:37:07 - INFO - Found 7 tags: ['v1.0.0', 'v1.1.0', 'v1.2.0', 'v1.3.0', 'v1.4.0', 'v1.5.0', 'v1.6.0']\n",
      "2025-09-22 08:37:07 - INFO - Latest tag: v1.6.0, next tag: v1.7.0\n",
      "2025-09-22 08:37:07 - INFO - Step 3: Committing with message: 'Project state before running experiment v1.7.0'\n",
      "2025-09-22 08:37:07 - INFO - Starting commit process with message: 'Project state before running experiment v1.7.0'\n",
      "2025-09-22 08:37:07 - INFO - Adding all files to staging area\n",
      "2025-09-22 08:37:07 - INFO - Starting process to add all files to git staging area\n",
      "2025-09-22 08:37:07 - INFO - Checking git status for all files\n",
      "2025-09-22 08:37:07 - INFO - Found 1 untracked files\n",
      "2025-09-22 08:37:07 - INFO - Found 0 modified files\n",
      "2025-09-22 08:37:07 - INFO - Found 0 deleted files\n",
      "2025-09-22 08:37:07 - INFO - Adding all files to git staging\n",
      "2025-09-22 08:37:07 - INFO - Successfully added all files to staging\n",
      "2025-09-22 08:37:07 - INFO - Checking for staged changes\n",
      "2025-09-22 08:37:07 - INFO - Staged 2 files for commit\n",
      "2025-09-22 08:37:07 - INFO - Creating commit with message: 'Project state before running experiment v1.7.0'\n",
      "2025-09-22 08:37:07 - INFO - Successfully committed: Project state before running experiment v1.7.0\n",
      "2025-09-22 08:37:07 - INFO - Successfully started experiment: v1.7.0\n"
     ]
    },
    {
     "data": {
      "text/plain": [
       "'v1.7.0'"
      ]
     },
     "execution_count": 2,
     "metadata": {},
     "output_type": "execute_result"
    }
   ],
   "source": [
    "from reprolab.experiment import start_experiment\n",
    "start_experiment()"
   ]
  },
  {
   "cell_type": "code",
   "execution_count": 3,
   "id": "53268d6d-6a0e-4b94-a886-9fc833499543",
   "metadata": {},
   "outputs": [],
   "source": [
    "import random\n",
    "random_integers = [random.randint(10, 90) for _ in range(10)]\n",
    "correlated_integers = [x + random.randint(1, 10) for x in random_integers]"
   ]
  },
  {
   "cell_type": "code",
   "execution_count": 4,
   "id": "f3077a68-d429-4cda-96cc-d25952986b40",
   "metadata": {},
   "outputs": [
    {
     "data": {
      "text/plain": [
       "Text(0, 0.5, 'correlated_integers')"
      ]
     },
     "execution_count": 4,
     "metadata": {},
     "output_type": "execute_result"
    },
    {
     "data": {
      "image/png": "[encoded data removed]",
      "text/plain": [
       "<Figure size 640x480 with 1 Axes>"
      ]
     },
     "metadata": {},
     "output_type": "display_data"
    }
   ],
   "source": [
    "import matplotlib.pyplot as plt\n",
    "\n",
    "plt.scatter(random_integers, correlated_integers)\n",
    "plt.xlabel(f\"{random_integers=}\".split('=')[0])\n",
    "plt.ylabel(f\"{correlated_integers=}\".split('=')[0])"
   ]
  },
  {
   "cell_type": "code",
   "execution_count": null,
   "id": "b60e55cd-a1f3-4e57-bad7-de1018ba8f32",
   "metadata": {},
   "outputs": [
    {
     "name": "stderr",
     "output_type": "stream",
     "text": [
      "2025-09-22 08:37:08 - INFO - Ending experiment process\n",
      "2025-09-22 08:37:08 - INFO - Step 1: Saving all notebooks\n",
      "2025-09-22 08:37:08 - INFO - Attempting to save all Jupyter notebooks...\n",
      "2025-09-22 08:37:08 - INFO - ipylab save command executed successfully\n",
      "2025-09-22 08:37:08 - INFO - nbformat processing completed for 3 notebooks\n"
     ]
    }
   ],
   "source": [
    "from reprolab.experiment import end_experiment\n",
    "end_experiment()"
   ]
  },
  {
   "cell_type": "code",
   "execution_count": null,
   "id": "78840ac8-80e2-43ef-bca2-8776625252e4",
   "metadata": {},
   "outputs": [],
   "source": []
  },
  {
   "cell_type": "code",
   "execution_count": null,
   "id": "11bcb813-3ac0-40fd-93e8-4199afdba4a7",
   "metadata": {},
   "outputs": [],
   "source": [
    "from reprolab.environment import create_new_venv\n",
    "create_new_venv('my_venv')"
   ]
  }
 ],
 "metadata": {
  "kernelspec": {
   "display_name": "Python [conda env:reprolab]",
   "language": "python",
   "name": "conda-env-reprolab-py"
  },
  "language_info": {
   "codemirror_mode": {
    "name": "ipython",
    "version": 3
   },
   "file_extension": ".py",
   "mimetype": "text/x-python",
   "name": "python",
   "nbconvert_exporter": "python",
   "pygments_lexer": "ipython3",
   "version": "3.13.7"
  }
 },
 "nbformat": 4,
 "nbformat_minor": 5
}
