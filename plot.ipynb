{
 "cells": [
  {
   "cell_type": "markdown",
   "id": "16554d32-a173-4409-b123-b3556a54b1f6",
   "metadata": {},
   "source": [
    "# ReproLab Demo\n",
    "\n",
    "Welcome to ReproLab! This extension helps you make your research more reproducible.\n",
    "\n",
    "## Features\n",
    "\n",
    "- **Create Experiments**: Automatically save immutable snapshots of your code under `git` tags to preserve the **exact code and outputs**\n",
    "- **Manage Dependencies**: Automatically gather and pin **exact package versions**, so that others can set up your environment with one command\n",
    "- **Cache Data**: Call external API/load manually dataset only once, caching function will handle the rest\n",
    "- **Archive Data**: Caching function can also preserve the compressed data in *AWS S3*, so you always know what data was used and reduce the API calls\n",
    "- **Publishing guide**: The reproducibility checklist & automated generation of reproducability package make publishing to platforms such as Zenodo very easy\n",
    "\n",
    "## Getting Started\n",
    "\n",
    "1. Use the sidebar to view ReproLab features\n",
    "2. Create virtual environment and pin your dependencies, go to reprolab section `Create reproducible environment` \n",
    "3. Create an experiment to save your current state, go to reprolab section `Create experiment`\n",
    "4. Archive your data for long-term storage, go to reprolab section `Demo` and play around with it.\n",
    "5. Publish your work when ready, remember to use reproducability checklist from the section `Reproducibility Checklist`\n",
    "\n",
    "## Example Usage of persistio decorator\n",
    "\n",
    "To cache and archive the datasets you use, both from local files and APIs we developed a simple decorator that put over your function that gets the datasets caches the file both locally and in the cloud so that the dataset you use is archived and the number of calls to external APIs is minimal and you don't need to keep the file around after you run it once.\n",
    "\n",
    "Here is an example using one of NASA open APIs. If you want to test it out yourself, you can copy the code, but you need to provide bucket name and access and secret key in the left-hand panel using the `AWS S3 Configuration` section.\n",
    "\n",
    "```python\n",
    "import requests\n",
    "import pandas as pd\n",
    "from io import StringIO\n",
    "\n",
    "# The two lines below is all that you need to add\n",
    "from reprolab.experiment import persistio\n",
    "@persistio()\n",
    "def get_exoplanets_data_from_nasa():\n",
    "    url = \"https://exoplanetarchive.ipac.caltech.edu/TAP/sync\"\n",
    "\n",
    "    query = \"\"\"\n",
    "    SELECT TOP 10\n",
    "        pl_name AS planet_name,\n",
    "        hostname AS host_star,\n",
    "        pl_orbper AS orbital_period_days,\n",
    "        pl_rade AS planet_radius_earth,\n",
    "        disc_year AS discovery_year\n",
    "    FROM\n",
    "        ps\n",
    "    WHERE\n",
    "        default_flag = 1\n",
    "    \"\"\"\n",
    "\n",
    "    params = {\n",
    "        \"query\": query,\n",
    "        \"format\": \"csv\"\n",
    "    }\n",
    "\n",
    "    response = requests.get(url, params=params)\n",
    "\n",
    "    if response.status_code == 200:\n",
    "        df = pd.read_csv(StringIO(response.text))\n",
    "        \n",
    "        print(df)\n",
    "        \n",
    "    else:\n",
    "        print(f\"Error: {response.status_code} - {response.text}\")\n",
    "    return df\n",
    "\n",
    "exoplanets_data = get_exoplanets_data_from_nasa()\n",
    "```\n",
    "\n",
    "If you run this cell twice you will notice from the logs that the second time file was read from the compressed file in the cache. If you were to lose access to local cache (e.g. by pulling the repository using different device) `persistio` would fetch the data from the cloud archive.\n",
    "\n",
    "\n",
    "For more information, visit our [documentation](https://github.com/your-repo/reprolab)."
   ]
  },
  {
   "cell_type": "code",
   "execution_count": 27,
   "id": "eeb242b2-c3d0-44fd-a829-20c878fed90e",
   "metadata": {},
   "outputs": [
    {
     "name": "stdout",
     "output_type": "stream",
     "text": [
      "Requirement already satisfied: matplotlib in /opt/conda/envs/reprolab/lib/python3.13/site-packages (3.10.6)\n",
      "Requirement already satisfied: contourpy>=1.0.1 in /opt/conda/envs/reprolab/lib/python3.13/site-packages (from matplotlib) (1.3.3)\n",
      "Requirement already satisfied: cycler>=0.10 in /opt/conda/envs/reprolab/lib/python3.13/site-packages (from matplotlib) (0.12.1)\n",
      "Requirement already satisfied: fonttools>=4.22.0 in /opt/conda/envs/reprolab/lib/python3.13/site-packages (from matplotlib) (4.60.0)\n",
      "Requirement already satisfied: kiwisolver>=1.3.1 in /opt/conda/envs/reprolab/lib/python3.13/site-packages (from matplotlib) (1.4.9)\n",
      "Requirement already satisfied: numpy>=1.23 in /opt/conda/envs/reprolab/lib/python3.13/site-packages (from matplotlib) (2.3.3)\n",
      "Requirement already satisfied: packaging>=20.0 in /opt/conda/envs/reprolab/lib/python3.13/site-packages (from matplotlib) (25.0)\n",
      "Requirement already satisfied: pillow>=8 in /opt/conda/envs/reprolab/lib/python3.13/site-packages (from matplotlib) (11.3.0)\n",
      "Requirement already satisfied: pyparsing>=2.3.1 in /opt/conda/envs/reprolab/lib/python3.13/site-packages (from matplotlib) (3.2.5)\n",
      "Requirement already satisfied: python-dateutil>=2.7 in /opt/conda/envs/reprolab/lib/python3.13/site-packages (from matplotlib) (2.9.0.post0)\n",
      "Requirement already satisfied: six>=1.5 in /opt/conda/envs/reprolab/lib/python3.13/site-packages (from python-dateutil>=2.7->matplotlib) (1.17.0)\n"
     ]
    }
   ],
   "source": [
    "!pip install matplotlib "
   ]
  },
  {
   "cell_type": "code",
   "execution_count": null,
   "id": "15bdba40-9129-40e0-a74c-83ea99d527a6",
   "metadata": {},
   "outputs": [
    {
     "name": "stderr",
     "output_type": "stream",
     "text": [
      "2025-09-22 10:03:27 - INFO - Starting experiment process\n",
      "2025-09-22 10:03:27 - INFO - Step 1: Saving all notebooks\n",
      "2025-09-22 10:03:27 - INFO - Attempting to save all Jupyter notebooks...\n",
      "2025-09-22 10:03:28 - INFO - ipylab save command executed successfully\n",
      "2025-09-22 10:03:28 - INFO - nbformat processing completed for 2 notebooks\n"
     ]
    }
   ],
   "source": [
    "from reprolab.experiment import start_experiment\n",
    "start_experiment()"
   ]
  },
  {
   "cell_type": "code",
   "execution_count": 32,
   "id": "53268d6d-6a0e-4b94-a886-9fc833499543",
   "metadata": {},
   "outputs": [
    {
     "name": "stdout",
     "output_type": "stream",
     "text": [
      "✅ Hash written to persistio_hashes.yaml\n",
      "[upload_to_cloud] Uploading reprolab_data/121026d10ef99125350445a84d111a77.pickle.pkl.gz to s3://https://scruffy.lab.uvalight.net:9001/browser/naa-vre-user-data/a29lbi5ncmV1ZWxsQGxpZmV3YXRjaC5ldS9SZXByb2xhYi8=/121026d10ef99125350445a84d111a77.pickle.pkl.gz\n"
     ]
    }
   ],
   "source": [
    "import random\n",
    "from reprolab.experiment import persistio\n",
    "\n",
    "@persistio()\n",
    "def get_random_data():\n",
    "    random_integers = [random.randint(10, 90) for _ in range(10)]\n",
    "    correlated_integers = [x + random.randint(1, 10) for x in random_integers]\n",
    "    return random_integers, correlated_integers\n",
    "\n",
    "random_integers, correlated_integers = get_random_data()"
   ]
  },
  {
   "cell_type": "code",
   "execution_count": 33,
   "id": "f3077a68-d429-4cda-96cc-d25952986b40",
   "metadata": {},
   "outputs": [
    {
     "data": {
      "image/png": "[encoded data removed]",
      "text/plain": [
       "<Figure size 640x480 with 1 Axes>"
      ]
     },
     "metadata": {},
     "output_type": "display_data"
    }
   ],
   "source": [
    "import matplotlib.pyplot as plt\n",
    "\n",
    "def make_plot(random_integers, correlated_integers):\n",
    "    plt.scatter(random_integers, correlated_integers)\n",
    "    plt.xlabel(f\"{random_integers=}\".split('=')[0])\n",
    "    plt.ylabel(f\"{correlated_integers=}\".split('=')[0])\n",
    "\n",
    "make_plot(random_integers, correlated_integers)"
   ]
  },
  {
   "cell_type": "code",
   "execution_count": 31,
   "id": "a830a335-9fb9-427c-9030-4b961b3f348b",
   "metadata": {},
   "outputs": [
    {
     "name": "stderr",
     "output_type": "stream",
     "text": [
      "2025-09-22 09:50:55 - INFO - Ending experiment process\n",
      "2025-09-22 09:50:55 - INFO - Step 1: Saving all notebooks\n",
      "2025-09-22 09:50:55 - INFO - Attempting to save all Jupyter notebooks...\n",
      "2025-09-22 09:50:56 - INFO - ipylab save command executed successfully\n",
      "2025-09-22 09:50:56 - INFO - nbformat processing completed for 2 notebooks\n",
      "2025-09-22 09:50:56 - INFO - Jupyter save commands executed successfully\n",
      "2025-09-22 09:50:56 - INFO - All save methods completed\n",
      "2025-09-22 09:50:56 - INFO - Step 2: Determining next tag name\n",
      "2025-09-22 09:50:56 - INFO - Determining next tag name\n",
      "2025-09-22 09:50:56 - INFO - Fetching all tags from remote repositories\n",
      "2025-09-22 09:50:57 - INFO - Found 11 tags: ['v1.0.0', 'v1.1.0', 'v1.10.0', 'v1.2.0', 'v1.3.0', 'v1.4.0', 'v1.5.0', 'v1.6.0', 'v1.7.0', 'v1.8.0', 'v1.9.0']\n",
      "2025-09-22 09:50:57 - INFO - Latest tag: v1.10.0, next tag: v1.11.0\n",
      "2025-09-22 09:50:57 - INFO - Step 3: Committing with message: 'Project state after running experiment v1.11.0'\n",
      "2025-09-22 09:50:57 - INFO - Starting commit process with message: 'Project state after running experiment v1.11.0'\n",
      "2025-09-22 09:50:57 - INFO - Adding all files to staging area\n",
      "2025-09-22 09:50:57 - INFO - Starting process to add all files to git staging area\n",
      "2025-09-22 09:50:57 - INFO - Checking git status for all files\n",
      "2025-09-22 09:50:57 - INFO - Found 0 untracked files\n",
      "2025-09-22 09:50:57 - INFO - Found 0 modified files\n",
      "2025-09-22 09:50:57 - INFO - Found 0 deleted files\n",
      "2025-09-22 09:50:57 - INFO - No changes detected, but proceeding with add anyway\n",
      "2025-09-22 09:50:57 - INFO - Adding all files to git staging\n",
      "2025-09-22 09:50:57 - INFO - Successfully added all files to staging\n",
      "2025-09-22 09:50:57 - INFO - Checking for staged changes\n",
      "2025-09-22 09:50:57 - INFO - Staged 1 files for commit\n",
      "2025-09-22 09:50:57 - INFO - Creating commit with message: 'Project state after running experiment v1.11.0'\n",
      "2025-09-22 09:50:57 - INFO - Successfully committed: Project state after running experiment v1.11.0\n",
      "2025-09-22 09:50:57 - INFO - Step 4: Creating tag: v1.11.0\n",
      "2025-09-22 09:50:57 - INFO - Successfully created tag: v1.11.0\n",
      "2025-09-22 09:50:57 - INFO - Step 5: Pushing tag to remote: v1.11.0\n",
      "2025-09-22 09:50:57 - ERROR - Error creating or pushing tag: Command '['git', 'push', 'origin', 'v1.11.0']' returned non-zero exit status 128.\n",
      "2025-09-22 09:50:57 - ERROR - Command output: \n",
      "2025-09-22 09:50:57 - ERROR - Command error: fatal: could not read Username for 'https://github.com': No such device or address\n",
      "\n"
     ]
    },
    {
     "data": {
      "text/plain": [
       "''"
      ]
     },
     "execution_count": 31,
     "metadata": {},
     "output_type": "execute_result"
    }
   ],
   "source": [
    "from reprolab.experiment import end_experiment\n",
    "end_experiment()"
   ]
  }
 ],
 "metadata": {
  "kernelspec": {
   "display_name": "Python [conda env:reprolab]",
   "language": "python",
   "name": "conda-env-reprolab-py"
  },
  "language_info": {
   "codemirror_mode": {
    "name": "ipython",
    "version": 3
   },
   "file_extension": ".py",
   "mimetype": "text/x-python",
   "name": "python",
   "nbconvert_exporter": "python",
   "pygments_lexer": "ipython3",
   "version": "3.13.7"
  }
 },
 "nbformat": 4,
 "nbformat_minor": 5
}
