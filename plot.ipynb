{
 "cells": [
  {
   "cell_type": "code",
   "execution_count": null,
   "id": "eeb242b2-c3d0-44fd-a829-20c878fed90e",
   "metadata": {},
   "outputs": [],
   "source": [
    "!pip install matplotlib "
   ]
  },
  {
   "cell_type": "code",
   "execution_count": null,
   "id": "53268d6d-6a0e-4b94-a886-9fc833499543",
   "metadata": {},
   "outputs": [],
   "source": [
    "import random\n",
    "random_integers = [random.randint(10, 90) for _ in range(10)]\n",
    "correlated_random_integers = [x + random.randint(1, 10) for x in random_integers]"
   ]
  },
  {
   "cell_type": "code",
   "execution_count": null,
   "id": "f3077a68-d429-4cda-96cc-d25952986b40",
   "metadata": {},
   "outputs": [],
   "source": [
    "import matplotlib.pyplot as plt\n",
    "plt.scatter(random_integers, correlated_random_integers)\n"
   ]
  },
  {
   "cell_type": "code",
   "execution_count": null,
   "id": "ab411ca8-0bd4-4a37-91bb-1ad4fd6451bf",
   "metadata": {},
   "outputs": [],
   "source": []
  }
 ],
 "metadata": {
  "kernelspec": {
   "display_name": "Python [conda env:reprolab]",
   "language": "python",
   "name": "conda-env-reprolab-py"
  },
  "language_info": {
   "codemirror_mode": {
    "name": "ipython",
    "version": 3
   },
   "file_extension": ".py",
   "mimetype": "text/x-python",
   "name": "python",
   "nbconvert_exporter": "python",
   "pygments_lexer": "ipython3",
   "version": "3.13.7"
  }
 },
 "nbformat": 4,
 "nbformat_minor": 5
}
