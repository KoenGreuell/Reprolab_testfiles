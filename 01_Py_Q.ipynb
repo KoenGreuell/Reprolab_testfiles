{
 "cells": [
  {
   "cell_type": "code",
   "execution_count": 2,
   "id": "a6cb42ad-3cdf-445d-bb56-7746a3a943a9",
   "metadata": {},
   "outputs": [],
   "source": [
    "# Parameters (DO NOT containerize this cell)\n",
    "\n",
    "# Parameters\n",
    "param_s3_server = \"scruffy.lab.uvalight.net:9000\"\n",
    "param_copernicus_e_mail_general_user_account = \"\"  # E-mail of a general user account for Copernicus. Create one here: https://shapps.dataspace.copernicus.eu/dashboard/#/account/settings\n",
    "param_s3_public_bucket = \"naa-vre-waddenzee-shared\"\n",
    "\n",
    "# Secrets\n",
    "secret_copernicus_password_general_user_account = \"\"  # password of a general user account for Copernicus.\n",
    "secret_s3_secret_key = \"\"\n",
    "secret_s3_access_key = \"\""
   ]
  },
  {
   "cell_type": "code",
   "execution_count": 3,
   "id": "d38df0d3-ccad-4471-b6df-c32e0cb54310",
   "metadata": {},
   "outputs": [
    {
     "name": "stdout",
     "output_type": "stream",
     "text": [
      "/home/jovyan\n"
     ]
    }
   ],
   "source": [
    "!pwd"
   ]
  },
  {
   "cell_type": "code",
   "execution_count": 4,
   "id": "4ca69a4f-9780-4e90-a7f2-80b47cec06b9",
   "metadata": {
    "tags": []
   },
   "outputs": [
    {
     "ename": "ModuleNotFoundError",
     "evalue": "No module named 'dtSat'",
     "output_type": "error",
     "traceback": [
      "\u001b[31m---------------------------------------------------------------------------\u001b[39m",
      "\u001b[31mModuleNotFoundError\u001b[39m                       Traceback (most recent call last)",
      "\u001b[36mCell\u001b[39m\u001b[36m \u001b[39m\u001b[32mIn[4]\u001b[39m\u001b[32m, line 5\u001b[39m\n\u001b[32m      3\u001b[39m \u001b[38;5;28;01mimport\u001b[39;00m\u001b[38;5;250m \u001b[39m\u001b[34;01mjson\u001b[39;00m\n\u001b[32m      4\u001b[39m \u001b[38;5;28;01mimport\u001b[39;00m\u001b[38;5;250m \u001b[39m\u001b[34;01mos\u001b[39;00m,\u001b[38;5;250m \u001b[39m\u001b[34;01msys\u001b[39;00m\n\u001b[32m----> \u001b[39m\u001b[32m5\u001b[39m \u001b[38;5;28;01mfrom\u001b[39;00m\u001b[38;5;250m \u001b[39m\u001b[34;01mdtSat\u001b[39;00m\u001b[38;5;250m \u001b[39m\u001b[38;5;28;01mimport\u001b[39;00m dtSat\n\u001b[32m      6\u001b[39m \u001b[38;5;28;01mfrom\u001b[39;00m\u001b[38;5;250m \u001b[39m\u001b[34;01mdtAcolite\u001b[39;00m\u001b[38;5;250m \u001b[39m\u001b[38;5;28;01mimport\u001b[39;00m dtAcolite\n\u001b[32m      7\u001b[39m \u001b[38;5;28;01mimport\u001b[39;00m\u001b[38;5;250m \u001b[39m\u001b[34;01mglob\u001b[39;00m\n",
      "\u001b[31mModuleNotFoundError\u001b[39m: No module named 'dtSat'"
     ]
    }
   ],
   "source": [
    "# RS-retrieving-Py01\n",
    "\n",
    "import json\n",
    "import os, sys\n",
    "from dtSat import dtSat\n",
    "from dtAcolite import dtAcolite\n",
    "import glob\n",
    "from minio import Minio\n",
    "import acolite as ac\n",
    "\n",
    "year = 2016 \n",
    "start_date = f\"{year}-01-01\"\n",
    "end_date   = f\"{year}-12-31\"\n",
    "data_collection = \"SENTINEL-2\"\n",
    "product_type = \"S2MSI1C\"\n",
    "aoi = \"POLYGON((4.6 53.1, 4.9 53.1, 4.9 52.8, 4.6 52.8, 4.6 53.1))'\"\n",
    "collection = \"sentinel\"\n",
    "\n",
    "app_configuration = dtAcolite.configure_acolite_directory(base_dir = \"/tmp/data\", year = year, collection = collection)\n",
    "# app_configuration = dtAcolite.load_configuration(\"./\")\n",
    "print(app_configuration)\n",
    "\n",
    "catalogue_response = dtSat.get_sentinel_catalogue(start_date, end_date, data_collection = data_collection, aoi= aoi, product_type=product_type, cloudcover=10.0, max_results=1000)\n",
    "catalogue_sub = dtSat.filter_by_orbit_and_tile(catalogue_response, orbit = \"R051\", tile = \"T31UFU\", name_only = False)\n",
    "\n",
    "\n",
    "catalogue_sub_filename = \"/tmp/data/catalogue_sub.json\"\n",
    "with open(catalogue_sub_filename, 'w') as f:\n",
    "    json.dump(catalogue_sub, f)\n",
    "    \n",
    "access_response = dtSat.get_copernicus_access_token(username = param_copernicus_e_mail_general_user_account, \n",
    "                                                    password = secret_copernicus_password_general_user_account)\n",
    "\n",
    "access_response_filename = \"/tmp/data/access_response.json\"\n",
    "with open(access_response_filename, 'w') as f:\n",
    "    json.dump(access_response, f)\n",
    "    \n",
    "print(f\"Raw images will be stored in {app_configuration['raw_inputdir']}\")\n",
    "print(f\"Analysis with acolite will start with images from {app_configuration['acolite_inputdir']}\")\n",
    "print(f\"Processed images from acolite will be stored in {app_configuration['acolite_outputdir']}\")\n",
    "\n",
    "## cell-2\n",
    "\n",
    "with open(catalogue_sub_filename) as f:\n",
    "    catalogue_sub = json.load(f)\n",
    "    \n",
    "with open(access_response_filename) as f:\n",
    "    access_response = json.load(f)\n",
    "    \n",
    "dtSat.data_sentinel_request(access_response, \n",
    "                            catalogue_sub, \n",
    "                            dir_path = app_configuration[\"raw_inputdir\"])\n",
    "\n",
    "\n",
    "print(f\"List of all images downloaded in {app_configuration['raw_inputdir']} included: \")\n",
    "print(os.listdir(app_configuration[\"raw_inputdir\"]))\n",
    "\n",
    "# cell-3\n",
    "\n",
    "minio_client = Minio(param_s3_server, access_key=secret_s3_access_key, secret_key=secret_s3_secret_key, region = \"nl-uvalight\", secure=True)\n",
    "minio_client\n",
    "\n",
    "minio_base_path = \"app_acolite_qing\"\n",
    "dtSat.upload_satellite_to_minio(client = minio_client,\n",
    "                                bucket_name = param_s3_public_bucket,  \n",
    "                                local_path = app_configuration[\"raw_inputdir\"],\n",
    "                                minio_path = f\"/{minio_base_path}/raw/{app_configuration['collection']}/{app_configuration['year']}\", \n",
    "                                collection = app_configuration[\"raw_inputdir\"], \n",
    "                                year = app_configuration[\"raw_inputdir\"])\n",
    "\n",
    "\n",
    "inputfilenames = dtAcolite.create_acolite_input(app_configuration = app_configuration)\n",
    "outfilepaths   = dtAcolite.create_acolite_output(app_configuration=app_configuration, filenames=inputfilenames)\n",
    "dtAcolite.unzip_inputfiles(app_configuration=app_configuration)\n",
    "\n",
    "inputfilepaths = glob.glob(f\"{app_configuration['acolite_inputdir']}/**\")\n",
    "outputfilepaths = glob.glob(f\"{app_configuration['acolite_outputdir']}/**\")\n",
    "outputfilepaths\n",
    "inputfilepaths\n",
    "\n",
    "path_ids = list(range(len(inputfilepaths)))"
   ]
  },
  {
   "cell_type": "code",
   "execution_count": null,
   "id": "e172a192-be4e-4d07-a944-b099ce9da144",
   "metadata": {
    "tags": []
   },
   "outputs": [],
   "source": [
    "# RS-processing-Py01\n",
    "\n",
    "import acolite as ac\n",
    "\n",
    "year = 2016\n",
    "start_date = f\"{year}-01-01\"\n",
    "end_date   = f\"{year}-12-31\"\n",
    "data_collection = \"SENTINEL-2\"\n",
    "product_type = \"S2MSI1C\"\n",
    "aoi = \"POLYGON((4.6 53.1, 4.9 53.1, 4.9 52.8, 4.6 52.8, 4.6 53.1))'\"\n",
    "collection = \"sentinel\"\n",
    "\n",
    "app_configuration = dtAcolite.configure_acolite_directory(base_dir = \"/tmp/data\", year = year, collection = collection)\n",
    "inputfilepaths = glob.glob(f\"{app_configuration['acolite_inputdir']}/**\")\n",
    "outputfilepaths = glob.glob(f\"{app_configuration['acolite_outputdir']}/**\")\n",
    "# settings\n",
    "settings = {'limit': [52.5,4.7,53.50,5.4], \n",
    "            'inputfile': '', \n",
    "            'output': '', \n",
    "            \"cirrus_correction\": True,\n",
    "            'l2w_parameters' : [\"rhow_*\",\"rhos_*\", \"Rrs_*\", \"chl_oc3\", \"chl_re_gons\", \"chl_re_gons740\", \n",
    "                                \"chl_re_moses3b\", \"chl_re_moses3b740\",  \"chl_re_mishra\", \"chl_re_bramich\", \n",
    "                                \"ndci\", \"ndvi\",\"spm_nechad2010\"]}\n",
    "\n",
    "acolite_processing = []\n",
    "for i in path_ids:\n",
    "    print(\"---------------------------------------------------------------------------------------\")\n",
    "    settings['inputfile'] = inputfilepaths[i]\n",
    "    settings['output']    = outputfilepaths[i]\n",
    "    ac.acolite.acolite_run(settings=settings)\n",
    "\n",
    "    # this should be modified to verify acolite processing, and for merging feature in workflow \n",
    "    message = f\"processing done and output is in {inputfilepaths[i]}\"\n",
    "    acolite_processing.append(message)\n",
    "\n",
    "    # print(\"+++++++++++++++++++++++++++++++++++++++++++++++++++++++++++++++++++++++++++++++++++++++++\")\n",
    "# print(f\"processing done and output is in {inputfilepaths[i]}\")\n",
    "# print(\"+++++++++++++++++++++++++++++++++++++++++++++++++++++++++++++++++++++++++++++++++++++++++\")\n",
    "\n",
    "print(acolite_processing)\n"
   ]
  },
  {
   "cell_type": "code",
   "execution_count": null,
   "id": "2d9c6445-ba2b-43d5-87e3-ea33387dbf9a",
   "metadata": {
    "tags": []
   },
   "outputs": [],
   "source": [
    "# RS-cell-3-upload\n",
    "# ---\n",
    "# NaaVRE:\n",
    "#  cell:\n",
    "#   inputs:\n",
    "#    - acolite_processing: List\n",
    "#   outputs: []\n",
    "#   params:\n",
    "#    - param_s3_server: String\n",
    "#    - param_copernicus_e_mail_general_user_account: String  # E-mail of a general user account for Copernicus. Create one here: https://shapps.dataspace.copernicus.eu/dashboard/#/account/settings\n",
    "#    - param_s3_public_bucket: String\n",
    "#    - year: Integer\n",
    "#   secrets:\n",
    "#    - secret_copernicus_password_general_user_account: String  # password of a general user account for Copernicus.\n",
    "#    - secret_s3_access_key: String\n",
    "#    - secret_s3_secret_key: String\n",
    "# ...\n",
    "\n",
    "acolite_processing"
   ]
  },
  {
   "cell_type": "code",
   "execution_count": null,
   "id": "ecb720c6-abf7-40cc-a604-f9571518ff08",
   "metadata": {},
   "outputs": [],
   "source": [
    "### do parallezation\n",
    "\n"
   ]
  },
  {
   "cell_type": "code",
   "execution_count": null,
   "id": "efc13f26-795c-489d-b941-207e6bd1b5db",
   "metadata": {},
   "outputs": [],
   "source": [
    "from reprolab.environment import freeze_venv_dependencies\n",
    "freeze_venv_dependencies('my_venv')"
   ]
  }
 ],
 "metadata": {
  "kernelspec": {
   "display_name": "Python [conda env:reprolab]",
   "language": "python",
   "name": "conda-env-reprolab-py"
  },
  "language_info": {
   "codemirror_mode": {
    "name": "ipython",
    "version": 3
   },
   "file_extension": ".py",
   "mimetype": "text/x-python",
   "name": "python",
   "nbconvert_exporter": "python",
   "pygments_lexer": "ipython3",
   "version": "3.13.7"
  }
 },
 "nbformat": 4,
 "nbformat_minor": 5
}
